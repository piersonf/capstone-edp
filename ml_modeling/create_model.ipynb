{
 "cells": [
  {
   "cell_type": "code",
   "execution_count": 56,
   "metadata": {},
   "outputs": [],
   "source": [
    "import pandas as pd\n",
    "from sklearn.linear_model import LinearRegression\n",
    "from sklearn.preprocessing import OneHotEncoder\n",
    "from sklearn.model_selection import train_test_split\n",
    "import pickle as pkl\n",
    "\n",
    "GENERATED_JSON_PATH = '../mongo/employees.json'\n"
   ]
  },
  {
   "cell_type": "code",
   "execution_count": 57,
   "metadata": {},
   "outputs": [
    {
     "name": "stdout",
     "output_type": "stream",
     "text": [
      "   salary                  role work_location\n",
      "0   50000  Marketing Specialist      New York\n",
      "1  120000        Data Scientist      New York\n",
      "2  120000        Data Scientist      Hartford\n",
      "3   95000            HR Manager      Hartford\n",
      "4   55000            HR Manager       Chicago\n"
     ]
    }
   ],
   "source": [
    "employee_data = pd.read_json(GENERATED_JSON_PATH)\n",
    "target_features_fields = employee_data[['salary','role','work_location']]\n",
    "target_features_fields = target_features_fields.dropna()\n",
    "target_features_fields = target_features_fields.drop_duplicates()\n",
    "\n",
    "print(target_features_fields.head())"
   ]
  },
  {
   "cell_type": "code",
   "execution_count": 58,
   "metadata": {},
   "outputs": [
    {
     "name": "stdout",
     "output_type": "stream",
     "text": [
      "0.5594879238245223\n"
     ]
    }
   ],
   "source": [
    "encoder = OneHotEncoder(drop='first', sparse_output=False)\n",
    "X_encoded = encoder.fit_transform(target_features_fields[['role','work_location']])\n",
    "X_encoded = pd.DataFrame(X_encoded)\n",
    "y= target_features_fields['salary']\n",
    "X_train, X_test, y_train, y_test = train_test_split(X_encoded, y, test_size=0.2, random_state=42)\n",
    "model = LinearRegression()\n",
    "model.fit(X_train, y_train)\n",
    "accuracy = model.score(X_test, y_test)\n",
    "print(accuracy)\n",
    "\n",
    "\n"
   ]
  },
  {
   "cell_type": "code",
   "execution_count": null,
   "metadata": {},
   "outputs": [],
   "source": [
    "with open('model_dump.pkl', 'wb') as f:\n",
    "    pkl.dump(model, f)"
   ]
  }
 ],
 "metadata": {
  "kernelspec": {
   "display_name": "Python 3",
   "language": "python",
   "name": "python3"
  },
  "language_info": {
   "codemirror_mode": {
    "name": "ipython",
    "version": 3
   },
   "file_extension": ".py",
   "mimetype": "text/x-python",
   "name": "python",
   "nbconvert_exporter": "python",
   "pygments_lexer": "ipython3",
   "version": "3.12.3"
  }
 },
 "nbformat": 4,
 "nbformat_minor": 2
}
