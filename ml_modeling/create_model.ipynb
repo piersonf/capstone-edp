{
 "cells": [
  {
   "cell_type": "code",
   "execution_count": 34,
   "metadata": {},
   "outputs": [],
   "source": [
    "import pandas as pd\n",
    "from sklearn.linear_model import LinearRegression\n",
    "from sklearn.preprocessing import OneHotEncoder\n",
    "from sklearn.model_selection import train_test_split\n",
    "import pickle as pkl\n",
    "from pymongo import MongoClient\n",
    "\n",
    "MONGO_PORT = 27017\n",
    "MONGO_DB = 'entrdir'\n",
    "MONGO_COLLECTION = 'employee'\n",
    "\n"
   ]
  },
  {
   "cell_type": "code",
   "execution_count": 35,
   "metadata": {},
   "outputs": [],
   "source": [
    "client = MongoClient('localhost', MONGO_PORT)\n",
    "db = client[MONGO_DB]\n",
    "collection = db[MONGO_COLLECTION]\n",
    "employees = list(collection.find())\n",
    "employees = pd.DataFrame(employees)\n",
    "target_features_fields = employees[['salary','role','work_location']]\n",
    "target_features_fields = target_features_fields.dropna()\n",
    "target_features_fields = target_features_fields.drop_duplicates()\n"
   ]
  },
  {
   "cell_type": "code",
   "execution_count": 36,
   "metadata": {},
   "outputs": [],
   "source": [
    "encoder = OneHotEncoder(drop='first', sparse_output=False, handle_unknown='ignore')\n",
    "X_encoded = encoder.fit_transform(target_features_fields[['role','work_location']])\n",
    "X_encoded = pd.DataFrame(X_encoded)\n",
    "y= target_features_fields['salary']\n",
    "X_train, X_test, y_train, y_test = train_test_split(X_encoded, y, test_size=0.2, random_state=42)\n",
    "model = LinearRegression()\n",
    "model.fit(X_train, y_train)\n",
    "accuracy = model.score(X_test, y_test)\n",
    "\n",
    "\n"
   ]
  },
  {
   "cell_type": "code",
   "execution_count": 37,
   "metadata": {},
   "outputs": [],
   "source": [
    "with open('model_dump.pkl', 'wb') as f:\n",
    "    pkl.dump(model, f)\n",
    "\n",
    "with open('encoder_dump.pkl', 'wb') as f:\n",
    "    pkl.dump(encoder, f)"
   ]
  }
 ],
 "metadata": {
  "kernelspec": {
   "display_name": "Python 3",
   "language": "python",
   "name": "python3"
  },
  "language_info": {
   "codemirror_mode": {
    "name": "ipython",
    "version": 3
   },
   "file_extension": ".py",
   "mimetype": "text/x-python",
   "name": "python",
   "nbconvert_exporter": "python",
   "pygments_lexer": "ipython3",
   "version": "3.12.3"
  }
 },
 "nbformat": 4,
 "nbformat_minor": 2
}
