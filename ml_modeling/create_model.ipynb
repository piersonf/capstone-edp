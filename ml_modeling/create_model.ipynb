{
 "cells": [
  {
   "cell_type": "code",
   "execution_count": 24,
   "metadata": {},
   "outputs": [],
   "source": [
    "import pandas as pd\n",
    "from sklearn.linear_model import LinearRegression\n",
    "from sklearn.preprocessing import OneHotEncoder\n",
    "from sklearn.model_selection import train_test_split\n",
    "import pickle as pkl\n",
    "from pymongo import MongoClient\n",
    "\n",
    "MONGO_PORT = 27017\n",
    "\n"
   ]
  },
  {
   "cell_type": "code",
   "execution_count": 25,
   "metadata": {},
   "outputs": [
    {
     "name": "stdout",
     "output_type": "stream",
     "text": [
      "                        _id  id               name                 phone  \\\n",
      "0  6870211c7f33aff0d95f96a8   3    Gabrielle Davis          855-394-0781   \n",
      "1  6870211c7f33aff0d95f96a9   2      Lance Hoffman  001-486-537-9402x654   \n",
      "2  6870211c7f33aff0d95f96aa   6     Andrew Stewart      513-695-3767x242   \n",
      "3  6870211c7f33aff0d95f96ab   5     Henry Santiago  001-719-228-3276x483   \n",
      "4  6870211c7f33aff0d95f96ac   4  Sandra Montgomery     (993)710-3413x164   \n",
      "\n",
      "              role work_location  salary  manager_id        manages  \n",
      "0   Data Scientist      Hartford  120000        1233             []  \n",
      "1   Data Scientist      New York  120000         179  [66, 62, 192]  \n",
      "2  Sales Executive       Chicago  105000         319         [1961]  \n",
      "3       HR Manager       Chicago   55000        1555         [1430]  \n",
      "4       HR Manager      Hartford   95000         860          [920]  \n"
     ]
    }
   ],
   "source": [
    "client = MongoClient('localhost', MONGO_PORT)\n",
    "db = client['entrdir']\n",
    "collection = db['employee']\n",
    "employees = list(collection.find())\n",
    "employees = pd.DataFrame(employees)\n",
    "print(employees.head())\n",
    "\n",
    "target_features_fields = employees[['salary','role','work_location']]\n",
    "target_features_fields = target_features_fields.dropna()\n",
    "target_features_fields = target_features_fields.drop_duplicates()\n"
   ]
  },
  {
   "cell_type": "code",
   "execution_count": 26,
   "metadata": {},
   "outputs": [
    {
     "name": "stdout",
     "output_type": "stream",
     "text": [
      "0.5869355613858929\n"
     ]
    }
   ],
   "source": [
    "encoder = OneHotEncoder(drop='first', sparse_output=False, handle_unknown='ignore')\n",
    "X_encoded = encoder.fit_transform(target_features_fields[['role','work_location']])\n",
    "X_encoded = pd.DataFrame(X_encoded)\n",
    "y= target_features_fields['salary']\n",
    "X_train, X_test, y_train, y_test = train_test_split(X_encoded, y, test_size=0.2, random_state=42)\n",
    "model = LinearRegression()\n",
    "model.fit(X_train, y_train)\n",
    "accuracy = model.score(X_test, y_test)\n",
    "print(accuracy)\n",
    "\n",
    "\n"
   ]
  },
  {
   "cell_type": "code",
   "execution_count": 27,
   "metadata": {},
   "outputs": [],
   "source": [
    "with open('model_dump.pkl', 'wb') as f:\n",
    "    pkl.dump(model, f)\n",
    "\n",
    "with open('encoder_dump.pkl', 'wb') as f:\n",
    "    pkl.dump(encoder, f)"
   ]
  }
 ],
 "metadata": {
  "kernelspec": {
   "display_name": "Python 3",
   "language": "python",
   "name": "python3"
  },
  "language_info": {
   "codemirror_mode": {
    "name": "ipython",
    "version": 3
   },
   "file_extension": ".py",
   "mimetype": "text/x-python",
   "name": "python",
   "nbconvert_exporter": "python",
   "pygments_lexer": "ipython3",
   "version": "3.12.3"
  }
 },
 "nbformat": 4,
 "nbformat_minor": 2
}
